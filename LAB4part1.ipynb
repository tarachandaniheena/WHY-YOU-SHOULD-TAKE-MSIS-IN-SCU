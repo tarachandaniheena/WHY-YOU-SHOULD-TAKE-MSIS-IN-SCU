{
 "cells": [
  {
   "cell_type": "code",
   "execution_count": 1,
   "metadata": {
    "collapsed": true
   },
   "outputs": [],
   "source": [
    "import pandas as pd\n"
   ]
  },
  {
   "cell_type": "markdown",
   "metadata": {},
   "source": [
    "Importing Beautiful Soup Library"
   ]
  },
  {
   "cell_type": "code",
   "execution_count": 3,
   "metadata": {},
   "outputs": [],
   "source": [
    "import requests\n",
    "from bs4 import BeautifulSoup"
   ]
  },
  {
   "cell_type": "markdown",
   "metadata": {},
   "source": [
    "requesting information from website to be scraped"
   ]
  },
  {
   "cell_type": "code",
   "execution_count": 88,
   "metadata": {
    "collapsed": true
   },
   "outputs": [],
   "source": [
    "r=requests.get(\"https://www.scu.edu/business/ms-information-systems/curriculum/\")"
   ]
  },
  {
   "cell_type": "markdown",
   "metadata": {},
   "source": [
    "Reading content of the website using html parser"
   ]
  },
  {
   "cell_type": "code",
   "execution_count": 89,
   "metadata": {
    "collapsed": true
   },
   "outputs": [],
   "source": [
    "soup=BeautifulSoup(r.content,'html.parser')"
   ]
  },
  {
   "cell_type": "markdown",
   "metadata": {},
   "source": [
    "Finding all the lines with tag 'td' and saving to CSV"
   ]
  },
  {
   "cell_type": "code",
   "execution_count": 151,
   "metadata": {},
   "outputs": [
    {
     "name": "stdout",
     "output_type": "stream",
     "text": [
      "MSIS 2601 Object Oriented Analysis and Programming (3 units)\n",
      "MSIS 2602 Information Systems Analysis and Design (3 units)\n",
      "MSIS 2603 Database Management Systems (3 units)\n",
      "MSIS 2604 Information Systems Policy and Strategy (3 units)\n",
      "MSIS 2605 Telecommunications and Business Networks (3 units)\n",
      "MSIS 2606 Software Project Management (3 units)\n",
      "MSIS course descriptions here »   \n",
      "ACTG 2301 Financial and Managerial Accounting (3 units)\n",
      "OMIS 2355 Computer-Based Decision Models (3 units)\n",
      "MGMT 2501 Building and Leading High-Performance Teams and Organizations (3 units)\n",
      "MSIS course descriptions here »   \n"
     ]
    }
   ],
   "source": [
    "import csv\n",
    "results=[]\n",
    "for d in soup.find_all('td'):\n",
    "    print(d.get_text())\n",
    "    results.append(d.get_text())\n",
    "    \n",
    "csv_file=open('Z:/heena/sheet2.csv','w')\n",
    "wr=csv.writer(csv_file)\n",
    "for row in results:\n",
    "    wr.writerow(row)\n",
    "    "
   ]
  },
  {
   "cell_type": "markdown",
   "metadata": {},
   "source": [
    "EXTRACTING SPECIALIZATION TRACK"
   ]
  },
  {
   "cell_type": "code",
   "execution_count": 74,
   "metadata": {
    "collapsed": true
   },
   "outputs": [],
   "source": [
    "r1=requests.get(\"https://www.scu.edu/business/ms-information-systems/curriculum/specialization-tracks/\")"
   ]
  },
  {
   "cell_type": "code",
   "execution_count": 83,
   "metadata": {
    "collapsed": true
   },
   "outputs": [],
   "source": [
    "soup1=BeautifulSoup(r1.content,'html.parser')"
   ]
  },
  {
   "cell_type": "code",
   "execution_count": 145,
   "metadata": {},
   "outputs": [
    {
     "name": "stdout",
     "output_type": "stream",
     "text": [
      "MSIS 2621\n",
      "Business Intelligence and Data Warehousing\n",
      "MSIS 2627\n",
      "Big Data Modeling and Analytics\n",
      "MSIS 2629\n",
      "Dashboards, Scorecards, and Visualization\n",
      "MSIS 2630\n",
      "Web Programming\n",
      "MSIS 2802\n",
      "Data Science Analysis with Python\n",
      "View course descriptions here » \n",
      "MSIS 2622\n",
      "ERP Systems\n",
      "MSIS 2623\n",
      "Financial Information Systems\n",
      "MSIS 2628\n",
      "The Business of Cloud Computing\n",
      "MSIS 2624\n",
      "E-Business Technologies - Virtualization\n",
      "MSIS 2630\n",
      "Web Programming\n",
      "View course descriptions here » \n",
      "MSIS 2630\n",
      "Web Programming\n",
      "MSIS 2624\n",
      "E-Business Technologies - Virtualization\n",
      "MSIS 2628\n",
      "The Business of Cloud Computing\n",
      "MSIS 2801\n",
      "Mobile Payment and eCommerce Security\n",
      "MSIS XXXX\n",
      "Mobile Programming (new course)\n",
      "View course descriptions here » \n",
      "MSIS 2628\n",
      "The Business of Cloud Computing\n",
      "MSIS 2624\n",
      "E-Business Technologies - Virtualization\n",
      "MSIS 2630\n",
      "Web Programming\n",
      "COEN 250\n",
      "Information Security Management\n",
      "COEN 252\n",
      "Computer Forensics\n",
      "COEN 253\n",
      "Secure Systems Development and Evaluation\n",
      "View course descriptions here » \n",
      "OMIS 3357\n",
      "Operations Management\n",
      "OMIS 3384\n",
      "Supply Chain Management\n",
      "OMIS 3388\n",
      "Supply Chain Outsourcing\n",
      "OMIS 2390\n",
      "New Product Development\n",
      "View course descriptions here » \n",
      "MGMT 2504\n",
      "Innovation in the Valley and Beyond\n",
      "IDIS 3612\n",
      "Management of High-Technology Firms Seminar\n",
      "MGMT 3538\n",
      "Leading Teams and Projects\n",
      "View course descriptions here » \n"
     ]
    }
   ],
   "source": [
    "import csv\n",
    "results=[]\n",
    "for d in soup.find_all('td'):\n",
    "    print(d.get_text())\n",
    "    results.append(d.get_text())\n",
    "    \n",
    "csv_file=open('Z:/heena/sheet4.csv','w')\n",
    "wr=csv.writer(csv_file)\n",
    "for row in results:\n",
    "    wr.writerow(row)\n",
    "    "
   ]
  },
  {
   "cell_type": "code",
   "execution_count": null,
   "metadata": {
    "collapsed": true
   },
   "outputs": [],
   "source": []
  }
 ],
 "metadata": {
  "kernelspec": {
   "display_name": "Python 3",
   "language": "python",
   "name": "python3"
  },
  "language_info": {
   "codemirror_mode": {
    "name": "ipython",
    "version": 3
   },
   "file_extension": ".py",
   "mimetype": "text/x-python",
   "name": "python",
   "nbconvert_exporter": "python",
   "pygments_lexer": "ipython3",
   "version": "3.6.2"
  }
 },
 "nbformat": 4,
 "nbformat_minor": 2
}
